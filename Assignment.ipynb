{
 "cells": [
  {
   "cell_type": "markdown",
   "metadata": {},
   "source": [
    "## Peer-graded Assignment: Segmenting and Clustering Neighborhoods in Toronto"
   ]
  },
  {
   "cell_type": "markdown",
   "metadata": {},
   "source": [
    "## Part 1: get and create the data frame using _pandas_"
   ]
  },
  {
   "cell_type": "code",
   "execution_count": 1,
   "metadata": {},
   "outputs": [
    {
     "name": "stdout",
     "output_type": "stream",
     "text": [
      "Collecting lxml\n",
      "\u001b[?25l  Downloading https://files.pythonhosted.org/packages/bd/78/56a7c88a57d0d14945472535d0df9fb4bbad7d34ede658ec7961635c790e/lxml-4.6.2-cp36-cp36m-manylinux1_x86_64.whl (5.5MB)\n",
      "\u001b[K     |████████████████████████████████| 5.5MB 9.3MB/s eta 0:00:01\n",
      "\u001b[?25hRequirement already satisfied: html5lib in /home/jupyterlab/conda/envs/python/lib/python3.6/site-packages (0.9999999)\n",
      "Collecting beautifulsoup4\n",
      "\u001b[?25l  Downloading https://files.pythonhosted.org/packages/d1/41/e6495bd7d3781cee623ce23ea6ac73282a373088fcd0ddc809a047b18eae/beautifulsoup4-4.9.3-py3-none-any.whl (115kB)\n",
      "\u001b[K     |████████████████████████████████| 122kB 18.4MB/s eta 0:00:01\n",
      "\u001b[?25hRequirement already satisfied: six in /home/jupyterlab/conda/envs/python/lib/python3.6/site-packages (from html5lib) (1.15.0)\n",
      "Collecting soupsieve>1.2; python_version >= \"3.0\" (from beautifulsoup4)\n",
      "  Downloading https://files.pythonhosted.org/packages/6f/8f/457f4a5390eeae1cc3aeab89deb7724c965be841ffca6cfca9197482e470/soupsieve-2.0.1-py3-none-any.whl\n",
      "Installing collected packages: lxml, soupsieve, beautifulsoup4\n",
      "Successfully installed beautifulsoup4-4.9.3 lxml-4.6.2 soupsieve-2.0.1\n"
     ]
    }
   ],
   "source": [
    "!pip install lxml html5lib beautifulsoup4\n",
    "\n",
    "import pandas as pd\n"
   ]
  },
  {
   "cell_type": "code",
   "execution_count": 2,
   "metadata": {},
   "outputs": [
    {
     "name": "stdout",
     "output_type": "stream",
     "text": [
      "3\n"
     ]
    }
   ],
   "source": [
    "url = \"https://en.wikipedia.org/wiki/List_of_postal_codes_of_Canada:_M\"\n",
    "dfs = pd.read_html(url)\n",
    "print(len(dfs)) #outputs the tables on the page\n"
   ]
  },
  {
   "cell_type": "code",
   "execution_count": 3,
   "metadata": {},
   "outputs": [
    {
     "data": {
      "text/html": [
       "<div>\n",
       "<style scoped>\n",
       "    .dataframe tbody tr th:only-of-type {\n",
       "        vertical-align: middle;\n",
       "    }\n",
       "\n",
       "    .dataframe tbody tr th {\n",
       "        vertical-align: top;\n",
       "    }\n",
       "\n",
       "    .dataframe thead th {\n",
       "        text-align: right;\n",
       "    }\n",
       "</style>\n",
       "<table border=\"1\" class=\"dataframe\">\n",
       "  <thead>\n",
       "    <tr style=\"text-align: right;\">\n",
       "      <th></th>\n",
       "      <th>PostalCode</th>\n",
       "      <th>Borough</th>\n",
       "      <th>Neighborhood</th>\n",
       "    </tr>\n",
       "  </thead>\n",
       "  <tbody>\n",
       "    <tr>\n",
       "      <th>2</th>\n",
       "      <td>M3A</td>\n",
       "      <td>North York</td>\n",
       "      <td>Parkwoods</td>\n",
       "    </tr>\n",
       "    <tr>\n",
       "      <th>3</th>\n",
       "      <td>M4A</td>\n",
       "      <td>North York</td>\n",
       "      <td>Victoria Village</td>\n",
       "    </tr>\n",
       "    <tr>\n",
       "      <th>4</th>\n",
       "      <td>M5A</td>\n",
       "      <td>Downtown Toronto</td>\n",
       "      <td>Regent Park, Harbourfront</td>\n",
       "    </tr>\n",
       "    <tr>\n",
       "      <th>5</th>\n",
       "      <td>M6A</td>\n",
       "      <td>North York</td>\n",
       "      <td>Lawrence Manor, Lawrence Heights</td>\n",
       "    </tr>\n",
       "    <tr>\n",
       "      <th>6</th>\n",
       "      <td>M7A</td>\n",
       "      <td>Downtown Toronto</td>\n",
       "      <td>Queen's Park, Ontario Provincial Government</td>\n",
       "    </tr>\n",
       "    <tr>\n",
       "      <th>8</th>\n",
       "      <td>M9A</td>\n",
       "      <td>Etobicoke</td>\n",
       "      <td>Islington Avenue, Humber Valley Village</td>\n",
       "    </tr>\n",
       "    <tr>\n",
       "      <th>9</th>\n",
       "      <td>M1B</td>\n",
       "      <td>Scarborough</td>\n",
       "      <td>Malvern, Rouge</td>\n",
       "    </tr>\n",
       "    <tr>\n",
       "      <th>11</th>\n",
       "      <td>M3B</td>\n",
       "      <td>North York</td>\n",
       "      <td>Don Mills</td>\n",
       "    </tr>\n",
       "    <tr>\n",
       "      <th>12</th>\n",
       "      <td>M4B</td>\n",
       "      <td>East York</td>\n",
       "      <td>Parkview Hill, Woodbine Gardens</td>\n",
       "    </tr>\n",
       "    <tr>\n",
       "      <th>13</th>\n",
       "      <td>M5B</td>\n",
       "      <td>Downtown Toronto</td>\n",
       "      <td>Garden District, Ryerson</td>\n",
       "    </tr>\n",
       "    <tr>\n",
       "      <th>14</th>\n",
       "      <td>M6B</td>\n",
       "      <td>North York</td>\n",
       "      <td>Glencairn</td>\n",
       "    </tr>\n",
       "  </tbody>\n",
       "</table>\n",
       "</div>"
      ],
      "text/plain": [
       "   PostalCode           Borough                                 Neighborhood\n",
       "2         M3A        North York                                    Parkwoods\n",
       "3         M4A        North York                             Victoria Village\n",
       "4         M5A  Downtown Toronto                    Regent Park, Harbourfront\n",
       "5         M6A        North York             Lawrence Manor, Lawrence Heights\n",
       "6         M7A  Downtown Toronto  Queen's Park, Ontario Provincial Government\n",
       "8         M9A         Etobicoke      Islington Avenue, Humber Valley Village\n",
       "9         M1B       Scarborough                               Malvern, Rouge\n",
       "11        M3B        North York                                    Don Mills\n",
       "12        M4B         East York              Parkview Hill, Woodbine Gardens\n",
       "13        M5B  Downtown Toronto                     Garden District, Ryerson\n",
       "14        M6B        North York                                    Glencairn"
      ]
     },
     "execution_count": 3,
     "metadata": {},
     "output_type": "execute_result"
    }
   ],
   "source": [
    "# Get first table out of the 3                                                                                                           \n",
    "df = dfs[0]\n",
    "\n",
    "# Extract columns                                                                                                           \n",
    "df2 = df[['Postal Code','Borough', 'Neighbourhood']]\n",
    "#print(df2)\n",
    "\n",
    "# make pandas dataframe:\n",
    "dataframe = pd.DataFrame(df2)\n",
    "\n",
    "# Change the column names to match the column names asked for in the assignment (note spelling!!) \n",
    "dataframe.columns =['PostalCode','Borough', 'Neighborhood'] \n",
    "\n",
    "# Remove all borough's that are not assigned\n",
    "Dfedit = dataframe[dataframe.Borough != \"Not assigned\"]   #drop these rows\n",
    "Dfedit.head(11)"
   ]
  },
  {
   "cell_type": "code",
   "execution_count": 4,
   "metadata": {},
   "outputs": [
    {
     "data": {
      "text/html": [
       "<div>\n",
       "<style scoped>\n",
       "    .dataframe tbody tr th:only-of-type {\n",
       "        vertical-align: middle;\n",
       "    }\n",
       "\n",
       "    .dataframe tbody tr th {\n",
       "        vertical-align: top;\n",
       "    }\n",
       "\n",
       "    .dataframe thead th {\n",
       "        text-align: right;\n",
       "    }\n",
       "</style>\n",
       "<table border=\"1\" class=\"dataframe\">\n",
       "  <thead>\n",
       "    <tr style=\"text-align: right;\">\n",
       "      <th></th>\n",
       "      <th>PostalCode</th>\n",
       "      <th>Borough</th>\n",
       "      <th>Neighborhood</th>\n",
       "    </tr>\n",
       "  </thead>\n",
       "  <tbody>\n",
       "    <tr>\n",
       "      <th>0</th>\n",
       "      <td>M1B</td>\n",
       "      <td>Scarborough</td>\n",
       "      <td>Malvern, Rouge</td>\n",
       "    </tr>\n",
       "    <tr>\n",
       "      <th>1</th>\n",
       "      <td>M1C</td>\n",
       "      <td>Scarborough</td>\n",
       "      <td>Rouge Hill, Port Union, Highland Creek</td>\n",
       "    </tr>\n",
       "    <tr>\n",
       "      <th>2</th>\n",
       "      <td>M1E</td>\n",
       "      <td>Scarborough</td>\n",
       "      <td>Guildwood, Morningside, West Hill</td>\n",
       "    </tr>\n",
       "    <tr>\n",
       "      <th>3</th>\n",
       "      <td>M1G</td>\n",
       "      <td>Scarborough</td>\n",
       "      <td>Woburn</td>\n",
       "    </tr>\n",
       "    <tr>\n",
       "      <th>4</th>\n",
       "      <td>M1H</td>\n",
       "      <td>Scarborough</td>\n",
       "      <td>Cedarbrae</td>\n",
       "    </tr>\n",
       "    <tr>\n",
       "      <th>...</th>\n",
       "      <td>...</td>\n",
       "      <td>...</td>\n",
       "      <td>...</td>\n",
       "    </tr>\n",
       "    <tr>\n",
       "      <th>98</th>\n",
       "      <td>M9N</td>\n",
       "      <td>York</td>\n",
       "      <td>Weston</td>\n",
       "    </tr>\n",
       "    <tr>\n",
       "      <th>99</th>\n",
       "      <td>M9P</td>\n",
       "      <td>Etobicoke</td>\n",
       "      <td>Westmount</td>\n",
       "    </tr>\n",
       "    <tr>\n",
       "      <th>100</th>\n",
       "      <td>M9R</td>\n",
       "      <td>Etobicoke</td>\n",
       "      <td>Kingsview Village, St. Phillips, Martin Grove ...</td>\n",
       "    </tr>\n",
       "    <tr>\n",
       "      <th>101</th>\n",
       "      <td>M9V</td>\n",
       "      <td>Etobicoke</td>\n",
       "      <td>South Steeles, Silverstone, Humbergate, Jamest...</td>\n",
       "    </tr>\n",
       "    <tr>\n",
       "      <th>102</th>\n",
       "      <td>M9W</td>\n",
       "      <td>Etobicoke</td>\n",
       "      <td>Northwest, West Humber - Clairville</td>\n",
       "    </tr>\n",
       "  </tbody>\n",
       "</table>\n",
       "<p>103 rows × 3 columns</p>\n",
       "</div>"
      ],
      "text/plain": [
       "    PostalCode      Borough                                       Neighborhood\n",
       "0          M1B  Scarborough                                     Malvern, Rouge\n",
       "1          M1C  Scarborough             Rouge Hill, Port Union, Highland Creek\n",
       "2          M1E  Scarborough                  Guildwood, Morningside, West Hill\n",
       "3          M1G  Scarborough                                             Woburn\n",
       "4          M1H  Scarborough                                          Cedarbrae\n",
       "..         ...          ...                                                ...\n",
       "98         M9N         York                                             Weston\n",
       "99         M9P    Etobicoke                                          Westmount\n",
       "100        M9R    Etobicoke  Kingsview Village, St. Phillips, Martin Grove ...\n",
       "101        M9V    Etobicoke  South Steeles, Silverstone, Humbergate, Jamest...\n",
       "102        M9W    Etobicoke                Northwest, West Humber - Clairville\n",
       "\n",
       "[103 rows x 3 columns]"
      ]
     },
     "execution_count": 4,
     "metadata": {},
     "output_type": "execute_result"
    }
   ],
   "source": [
    "# Harbourfront and Regent Park. These two rows will be combined into one row with the neighborhoods separated with a comma \n",
    "\n",
    "Dfedit_grouped = Dfedit.groupby(['PostalCode','Borough'], as_index=False).agg(lambda x: ','.join(x))\n",
    "\n",
    "\n",
    "# If a cell has a borough but a Not assigned neighborhood, then the neighborhood will be the same as the borough.\n",
    "for index, row in Dfedit_grouped.iterrows():\n",
    "    if row['Neighborhood'] == 'Not assigned':\n",
    "        row['Neighborhood'] = row['Borough']\n",
    "\n",
    "# Clean Notebook and add Markdown cells to explain your work and any assumptions you are making.\n",
    "Dfedit_grouped"
   ]
  },
  {
   "cell_type": "code",
   "execution_count": 5,
   "metadata": {},
   "outputs": [
    {
     "data": {
      "text/plain": [
       "(103, 3)"
      ]
     },
     "execution_count": 5,
     "metadata": {},
     "output_type": "execute_result"
    }
   ],
   "source": [
    "# use shape to print number of rows, columns.\n",
    "Dfedit_grouped.shape\n"
   ]
  },
  {
   "cell_type": "markdown",
   "metadata": {},
   "source": [
    "## Part 2: utilize the Foursquare location data, create dataframe with latitude and the longitude coordinates of each neighborhood."
   ]
  },
  {
   "cell_type": "code",
   "execution_count": 6,
   "metadata": {},
   "outputs": [
    {
     "data": {
      "text/html": [
       "<div>\n",
       "<style scoped>\n",
       "    .dataframe tbody tr th:only-of-type {\n",
       "        vertical-align: middle;\n",
       "    }\n",
       "\n",
       "    .dataframe tbody tr th {\n",
       "        vertical-align: top;\n",
       "    }\n",
       "\n",
       "    .dataframe thead th {\n",
       "        text-align: right;\n",
       "    }\n",
       "</style>\n",
       "<table border=\"1\" class=\"dataframe\">\n",
       "  <thead>\n",
       "    <tr style=\"text-align: right;\">\n",
       "      <th></th>\n",
       "      <th>Postal Code</th>\n",
       "      <th>Latitude</th>\n",
       "      <th>Longitude</th>\n",
       "    </tr>\n",
       "  </thead>\n",
       "  <tbody>\n",
       "    <tr>\n",
       "      <th>0</th>\n",
       "      <td>M1B</td>\n",
       "      <td>43.806686</td>\n",
       "      <td>-79.194353</td>\n",
       "    </tr>\n",
       "    <tr>\n",
       "      <th>1</th>\n",
       "      <td>M1C</td>\n",
       "      <td>43.784535</td>\n",
       "      <td>-79.160497</td>\n",
       "    </tr>\n",
       "    <tr>\n",
       "      <th>2</th>\n",
       "      <td>M1E</td>\n",
       "      <td>43.763573</td>\n",
       "      <td>-79.188711</td>\n",
       "    </tr>\n",
       "    <tr>\n",
       "      <th>3</th>\n",
       "      <td>M1G</td>\n",
       "      <td>43.770992</td>\n",
       "      <td>-79.216917</td>\n",
       "    </tr>\n",
       "    <tr>\n",
       "      <th>4</th>\n",
       "      <td>M1H</td>\n",
       "      <td>43.773136</td>\n",
       "      <td>-79.239476</td>\n",
       "    </tr>\n",
       "  </tbody>\n",
       "</table>\n",
       "</div>"
      ],
      "text/plain": [
       "  Postal Code   Latitude  Longitude\n",
       "0         M1B  43.806686 -79.194353\n",
       "1         M1C  43.784535 -79.160497\n",
       "2         M1E  43.763573 -79.188711\n",
       "3         M1G  43.770992 -79.216917\n",
       "4         M1H  43.773136 -79.239476"
      ]
     },
     "execution_count": 6,
     "metadata": {},
     "output_type": "execute_result"
    }
   ],
   "source": [
    "# Upload data with latitude and longitude\n",
    "Geo_df = pd.read_csv('Geospatial_Coordinates.csv')\n",
    "Geo_df.head()"
   ]
  },
  {
   "cell_type": "code",
   "execution_count": 17,
   "metadata": {},
   "outputs": [
    {
     "data": {
      "text/html": [
       "<div>\n",
       "<style scoped>\n",
       "    .dataframe tbody tr th:only-of-type {\n",
       "        vertical-align: middle;\n",
       "    }\n",
       "\n",
       "    .dataframe tbody tr th {\n",
       "        vertical-align: top;\n",
       "    }\n",
       "\n",
       "    .dataframe thead th {\n",
       "        text-align: right;\n",
       "    }\n",
       "</style>\n",
       "<table border=\"1\" class=\"dataframe\">\n",
       "  <thead>\n",
       "    <tr style=\"text-align: right;\">\n",
       "      <th></th>\n",
       "      <th>PostalCode</th>\n",
       "      <th>Borough</th>\n",
       "      <th>Neighborhood</th>\n",
       "      <th>Latitude</th>\n",
       "      <th>Longitude</th>\n",
       "    </tr>\n",
       "  </thead>\n",
       "  <tbody>\n",
       "    <tr>\n",
       "      <th>0</th>\n",
       "      <td>M1B</td>\n",
       "      <td>Scarborough</td>\n",
       "      <td>Malvern, Rouge</td>\n",
       "      <td>43.806686</td>\n",
       "      <td>-79.194353</td>\n",
       "    </tr>\n",
       "    <tr>\n",
       "      <th>1</th>\n",
       "      <td>M1C</td>\n",
       "      <td>Scarborough</td>\n",
       "      <td>Rouge Hill, Port Union, Highland Creek</td>\n",
       "      <td>43.784535</td>\n",
       "      <td>-79.160497</td>\n",
       "    </tr>\n",
       "    <tr>\n",
       "      <th>2</th>\n",
       "      <td>M1E</td>\n",
       "      <td>Scarborough</td>\n",
       "      <td>Guildwood, Morningside, West Hill</td>\n",
       "      <td>43.763573</td>\n",
       "      <td>-79.188711</td>\n",
       "    </tr>\n",
       "    <tr>\n",
       "      <th>3</th>\n",
       "      <td>M1G</td>\n",
       "      <td>Scarborough</td>\n",
       "      <td>Woburn</td>\n",
       "      <td>43.770992</td>\n",
       "      <td>-79.216917</td>\n",
       "    </tr>\n",
       "    <tr>\n",
       "      <th>4</th>\n",
       "      <td>M1H</td>\n",
       "      <td>Scarborough</td>\n",
       "      <td>Cedarbrae</td>\n",
       "      <td>43.773136</td>\n",
       "      <td>-79.239476</td>\n",
       "    </tr>\n",
       "    <tr>\n",
       "      <th>...</th>\n",
       "      <td>...</td>\n",
       "      <td>...</td>\n",
       "      <td>...</td>\n",
       "      <td>...</td>\n",
       "      <td>...</td>\n",
       "    </tr>\n",
       "    <tr>\n",
       "      <th>98</th>\n",
       "      <td>M9N</td>\n",
       "      <td>York</td>\n",
       "      <td>Weston</td>\n",
       "      <td>43.706876</td>\n",
       "      <td>-79.518188</td>\n",
       "    </tr>\n",
       "    <tr>\n",
       "      <th>99</th>\n",
       "      <td>M9P</td>\n",
       "      <td>Etobicoke</td>\n",
       "      <td>Westmount</td>\n",
       "      <td>43.696319</td>\n",
       "      <td>-79.532242</td>\n",
       "    </tr>\n",
       "    <tr>\n",
       "      <th>100</th>\n",
       "      <td>M9R</td>\n",
       "      <td>Etobicoke</td>\n",
       "      <td>Kingsview Village, St. Phillips, Martin Grove ...</td>\n",
       "      <td>43.688905</td>\n",
       "      <td>-79.554724</td>\n",
       "    </tr>\n",
       "    <tr>\n",
       "      <th>101</th>\n",
       "      <td>M9V</td>\n",
       "      <td>Etobicoke</td>\n",
       "      <td>South Steeles, Silverstone, Humbergate, Jamest...</td>\n",
       "      <td>43.739416</td>\n",
       "      <td>-79.588437</td>\n",
       "    </tr>\n",
       "    <tr>\n",
       "      <th>102</th>\n",
       "      <td>M9W</td>\n",
       "      <td>Etobicoke</td>\n",
       "      <td>Northwest, West Humber - Clairville</td>\n",
       "      <td>43.706748</td>\n",
       "      <td>-79.594054</td>\n",
       "    </tr>\n",
       "  </tbody>\n",
       "</table>\n",
       "<p>103 rows × 5 columns</p>\n",
       "</div>"
      ],
      "text/plain": [
       "    PostalCode      Borough  \\\n",
       "0          M1B  Scarborough   \n",
       "1          M1C  Scarborough   \n",
       "2          M1E  Scarborough   \n",
       "3          M1G  Scarborough   \n",
       "4          M1H  Scarborough   \n",
       "..         ...          ...   \n",
       "98         M9N         York   \n",
       "99         M9P    Etobicoke   \n",
       "100        M9R    Etobicoke   \n",
       "101        M9V    Etobicoke   \n",
       "102        M9W    Etobicoke   \n",
       "\n",
       "                                          Neighborhood   Latitude  Longitude  \n",
       "0                                       Malvern, Rouge  43.806686 -79.194353  \n",
       "1               Rouge Hill, Port Union, Highland Creek  43.784535 -79.160497  \n",
       "2                    Guildwood, Morningside, West Hill  43.763573 -79.188711  \n",
       "3                                               Woburn  43.770992 -79.216917  \n",
       "4                                            Cedarbrae  43.773136 -79.239476  \n",
       "..                                                 ...        ...        ...  \n",
       "98                                              Weston  43.706876 -79.518188  \n",
       "99                                           Westmount  43.696319 -79.532242  \n",
       "100  Kingsview Village, St. Phillips, Martin Grove ...  43.688905 -79.554724  \n",
       "101  South Steeles, Silverstone, Humbergate, Jamest...  43.739416 -79.588437  \n",
       "102                Northwest, West Humber - Clairville  43.706748 -79.594054  \n",
       "\n",
       "[103 rows x 5 columns]"
      ]
     },
     "execution_count": 17,
     "metadata": {},
     "output_type": "execute_result"
    }
   ],
   "source": [
    "#For download data, change names to match on postalcode\n",
    "Geo_df.rename(index=str, columns={\"Postal Code\": \"PostalCode\"}, inplace = True)\n",
    "\n",
    "# create new dataframe from others:\n",
    "neighborhood = pd.merge(Dfedit_grouped, Geo_df, on='PostalCode', how='inner')\n",
    "toronto_mergeddf = pd.DataFrame(neighborhood)\n",
    "toronto_mergeddf"
   ]
  },
  {
   "cell_type": "markdown",
   "metadata": {},
   "source": [
    "## Part 3: Explore and cluster the neighborhoods in Toronto"
   ]
  },
  {
   "cell_type": "code",
   "execution_count": 8,
   "metadata": {},
   "outputs": [
    {
     "name": "stdout",
     "output_type": "stream",
     "text": [
      "Collecting geocoder\n",
      "\u001b[?25l  Downloading https://files.pythonhosted.org/packages/4f/6b/13166c909ad2f2d76b929a4227c952630ebaf0d729f6317eb09cbceccbab/geocoder-1.38.1-py2.py3-none-any.whl (98kB)\n",
      "\u001b[K     |████████████████████████████████| 102kB 6.5MB/s ta 0:00:011\n",
      "\u001b[?25hCollecting ratelim (from geocoder)\n",
      "  Downloading https://files.pythonhosted.org/packages/f2/98/7e6d147fd16a10a5f821db6e25f192265d6ecca3d82957a4fdd592cad49c/ratelim-0.1.6-py2.py3-none-any.whl\n",
      "Requirement already satisfied: six in /home/jupyterlab/conda/envs/python/lib/python3.6/site-packages (from geocoder) (1.15.0)\n",
      "Collecting future (from geocoder)\n",
      "\u001b[?25l  Downloading https://files.pythonhosted.org/packages/45/0b/38b06fd9b92dc2b68d58b75f900e97884c45bedd2ff83203d933cf5851c9/future-0.18.2.tar.gz (829kB)\n",
      "\u001b[K     |████████████████████████████████| 829kB 7.2MB/s eta 0:00:01\n",
      "\u001b[?25hCollecting click (from geocoder)\n",
      "  Using cached https://files.pythonhosted.org/packages/d2/3d/fa76db83bf75c4f8d338c2fd15c8d33fdd7ad23a9b5e57eb6c5de26b430e/click-7.1.2-py2.py3-none-any.whl\n",
      "Requirement already satisfied: requests in /home/jupyterlab/conda/envs/python/lib/python3.6/site-packages (from geocoder) (2.24.0)\n",
      "Requirement already satisfied: decorator in /home/jupyterlab/conda/envs/python/lib/python3.6/site-packages (from ratelim->geocoder) (4.4.2)\n",
      "Requirement already satisfied: idna<3,>=2.5 in /home/jupyterlab/conda/envs/python/lib/python3.6/site-packages (from requests->geocoder) (2.10)\n",
      "Requirement already satisfied: certifi>=2017.4.17 in /home/jupyterlab/conda/envs/python/lib/python3.6/site-packages (from requests->geocoder) (2020.6.20)\n",
      "Requirement already satisfied: urllib3!=1.25.0,!=1.25.1,<1.26,>=1.21.1 in /home/jupyterlab/conda/envs/python/lib/python3.6/site-packages (from requests->geocoder) (1.25.11)\n",
      "Requirement already satisfied: chardet<4,>=3.0.2 in /home/jupyterlab/conda/envs/python/lib/python3.6/site-packages (from requests->geocoder) (3.0.4)\n",
      "Building wheels for collected packages: future\n",
      "  Building wheel for future (setup.py) ... \u001b[?25ldone\n",
      "\u001b[?25h  Stored in directory: /home/jupyterlab/.cache/pip/wheels/8b/99/a0/81daf51dcd359a9377b110a8a886b3895921802d2fc1b2397e\n",
      "Successfully built future\n",
      "Installing collected packages: ratelim, future, click, geocoder\n",
      "Successfully installed click-7.1.2 future-0.18.2 geocoder-1.38.1 ratelim-0.1.6\n",
      "Collecting geopy\n",
      "\u001b[?25l  Downloading https://files.pythonhosted.org/packages/07/e1/9c72de674d5c2b8fcb0738a5ceeb5424941fefa080bfe4e240d0bacb5a38/geopy-2.0.0-py3-none-any.whl (111kB)\n",
      "\u001b[K     |████████████████████████████████| 112kB 6.0MB/s eta 0:00:01\n",
      "\u001b[?25hCollecting geographiclib<2,>=1.49 (from geopy)\n",
      "  Downloading https://files.pythonhosted.org/packages/8b/62/26ec95a98ba64299163199e95ad1b0e34ad3f4e176e221c40245f211e425/geographiclib-1.50-py3-none-any.whl\n",
      "Installing collected packages: geographiclib, geopy\n",
      "Successfully installed geographiclib-1.50 geopy-2.0.0\n",
      "Requirement already satisfied: folium==0.5.0 in /home/jupyterlab/conda/envs/python/lib/python3.6/site-packages (0.5.0)\n",
      "Requirement already satisfied: branca in /home/jupyterlab/conda/envs/python/lib/python3.6/site-packages (from folium==0.5.0) (0.4.1)\n",
      "Requirement already satisfied: jinja2 in /home/jupyterlab/conda/envs/python/lib/python3.6/site-packages (from folium==0.5.0) (2.11.2)\n",
      "Requirement already satisfied: requests in /home/jupyterlab/conda/envs/python/lib/python3.6/site-packages (from folium==0.5.0) (2.24.0)\n",
      "Requirement already satisfied: six in /home/jupyterlab/conda/envs/python/lib/python3.6/site-packages (from folium==0.5.0) (1.15.0)\n",
      "Requirement already satisfied: MarkupSafe>=0.23 in /home/jupyterlab/conda/envs/python/lib/python3.6/site-packages (from jinja2->folium==0.5.0) (1.1.1)\n",
      "Requirement already satisfied: idna<3,>=2.5 in /home/jupyterlab/conda/envs/python/lib/python3.6/site-packages (from requests->folium==0.5.0) (2.10)\n",
      "Requirement already satisfied: certifi>=2017.4.17 in /home/jupyterlab/conda/envs/python/lib/python3.6/site-packages (from requests->folium==0.5.0) (2020.6.20)\n",
      "Requirement already satisfied: urllib3!=1.25.0,!=1.25.1,<1.26,>=1.21.1 in /home/jupyterlab/conda/envs/python/lib/python3.6/site-packages (from requests->folium==0.5.0) (1.25.11)\n",
      "Requirement already satisfied: chardet<4,>=3.0.2 in /home/jupyterlab/conda/envs/python/lib/python3.6/site-packages (from requests->folium==0.5.0) (3.0.4)\n"
     ]
    }
   ],
   "source": [
    "!pip install geocoder\n",
    "\n",
    "import geocoder # import geocoder\n",
    "import requests # library to handle requests\n",
    "import pandas as pd # library for data analsysis\n",
    "import numpy as np # library to handle data in a vectorized manner\n",
    "import random # library for random number generation\n",
    "\n",
    "\n",
    "!pip install geopy\n",
    "from geopy.geocoders import Nominatim # module to convert an address into latitude and longitude values\n",
    "\n",
    "# libraries for displaying images\n",
    "from IPython.display import Image \n",
    "from IPython.core.display import HTML \n",
    "    \n",
    "# tranforming json file into a pandas dataframe library\n",
    "from pandas.io.json import json_normalize\n",
    "\n",
    "\n",
    "! pip install folium==0.5.0\n",
    "import folium # plotting library\n"
   ]
  },
  {
   "cell_type": "code",
   "execution_count": 9,
   "metadata": {},
   "outputs": [
    {
     "name": "stdout",
     "output_type": "stream",
     "text": [
      "The geograpical coordinates of Toronto are 43.6534817, -79.3839347.\n"
     ]
    }
   ],
   "source": [
    "# work with only boroughs that contain the word Toronto \n",
    "\n",
    "# use geopy to find lat and long for Toronto\n",
    "address = 'Toronto'\n",
    "\n",
    "geolocator = Nominatim(user_agent=\"Toronto_explorer\")\n",
    "location = geolocator.geocode(address)\n",
    "latitude = location.latitude\n",
    "longitude = location.longitude\n",
    "print('The geograpical coordinates of Toronto are {}, {}.'.format(latitude, longitude))\n"
   ]
  },
  {
   "cell_type": "code",
   "execution_count": 10,
   "metadata": {},
   "outputs": [
    {
     "data": {
      "text/html": [
       "<div style=\"width:100%;\"><div style=\"position:relative;width:100%;height:0;padding-bottom:60%;\"><span style=\"color:#565656\">Make this Notebook Trusted to load map: File -> Trust Notebook</span><iframe src=\"about:blank\" style=\"position:absolute;width:100%;height:100%;left:0;top:0;border:none !important;\" data-html=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 onload=\"this.contentDocument.open();this.contentDocument.write(atob(this.getAttribute('data-html')));this.contentDocument.close();\" allowfullscreen webkitallowfullscreen mozallowfullscreen></iframe></div></div>"
      ],
      "text/plain": [
       "<folium.folium.Map at 0x7ff4f5d701d0>"
      ]
     },
     "execution_count": 10,
     "metadata": {},
     "output_type": "execute_result"
    }
   ],
   "source": [
    "# create map of Toronto using latitude and longitude values\n",
    "map_toronto = folium.Map(location=[latitude, longitude], zoom_start=10)\n",
    "\n",
    "# add markers to map\n",
    "for lat, lng, borough, neighborhood in zip(neighborhood['Latitude'], neighborhood['Longitude'], neighborhood['Borough'], neighborhood['Neighborhood']):\n",
    "    label = '{}, {}'.format(neighborhood, borough)\n",
    "    label = folium.Popup(label, parse_html=True)\n",
    "    folium.CircleMarker(\n",
    "        [lat, lng],\n",
    "        radius=5,\n",
    "        popup=label,\n",
    "        color='blue',\n",
    "        fill=True,\n",
    "        fill_color='#3186cc',\n",
    "        fill_opacity=0.7,\n",
    "        parse_html=False).add_to(map_toronto)  \n",
    "    \n",
    "map_toronto"
   ]
  },
  {
   "cell_type": "markdown",
   "metadata": {},
   "source": [
    "### Explore Toronto"
   ]
  },
  {
   "cell_type": "code",
   "execution_count": 11,
   "metadata": {},
   "outputs": [],
   "source": [
    "CLIENT_ID = '' # your Foursquare ID\n",
    "CLIENT_SECRET = '' # your Foursquare Secret\n",
    "VERSION = '20180605' # Foursquare API version\n",
    "LIMIT = 100 # A default Foursquare API limit value\n"
   ]
  },
  {
   "cell_type": "code",
   "execution_count": 20,
   "metadata": {},
   "outputs": [
    {
     "data": {
      "text/plain": [
       "'Woburn'"
      ]
     },
     "execution_count": 20,
     "metadata": {},
     "output_type": "execute_result"
    }
   ],
   "source": [
    "# lets get the 4th Neighbourhood of Woburn\n",
    "\n",
    "toronto_mergeddf.loc[3, 'Neighborhood']"
   ]
  },
  {
   "cell_type": "code",
   "execution_count": 21,
   "metadata": {},
   "outputs": [
    {
     "name": "stdout",
     "output_type": "stream",
     "text": [
      "Latitude and longitude values of Woburn are 43.7709921, -79.21691740000001.\n"
     ]
    }
   ],
   "source": [
    "# we get the latitude and longitude\n",
    "neighborhood_latitude = toronto_mergeddf.loc[3, 'Latitude'] # neighborhood latitude value\n",
    "neighborhood_longitude = toronto_mergeddf.loc[3, 'Longitude'] # neighborhood longitude value\n",
    "\n",
    "neighborhood_name = toronto_mergeddf.loc[3, 'Neighborhood'] # neighborhood name\n",
    "\n",
    "print('Latitude and longitude values of {} are {}, {}.'.format(neighborhood_name, \n",
    "                                                               neighborhood_latitude, \n",
    "                                                               neighborhood_longitude))\n"
   ]
  },
  {
   "cell_type": "markdown",
   "metadata": {},
   "source": [
    "### find the top 100 venues in Woburn:\n"
   ]
  },
  {
   "cell_type": "code",
   "execution_count": 23,
   "metadata": {},
   "outputs": [],
   "source": [
    "# type your answer here\n",
    "LIMIT = 100 # limit of number of venues returned by Foursquare API\n",
    "\n",
    "radius = 500 # define radius\n",
    "\n",
    "# create URL\n",
    "url = 'https://api.foursquare.com/v2/venues/explore?&client_id={}&client_secret={}&v={}&ll={},{}&radius={}&limit={}'.format(\n",
    "    CLIENT_ID, \n",
    "    CLIENT_SECRET, \n",
    "    VERSION, \n",
    "    neighborhood_latitude, \n",
    "    neighborhood_longitude, \n",
    "    radius, \n",
    "    LIMIT)\n",
    "results = requests.get(url).json()\n"
   ]
  },
  {
   "cell_type": "code",
   "execution_count": 24,
   "metadata": {},
   "outputs": [],
   "source": [
    "# function that extracts the category of the venue\n",
    "def get_category_type(row):\n",
    "    try:\n",
    "        categories_list = row['categories']\n",
    "    except:\n",
    "        categories_list = row['venue.categories']\n",
    "        \n",
    "    if len(categories_list) == 0:\n",
    "        return None\n",
    "    else:\n",
    "        return categories_list[0]['name']"
   ]
  },
  {
   "cell_type": "code",
   "execution_count": 25,
   "metadata": {},
   "outputs": [
    {
     "name": "stderr",
     "output_type": "stream",
     "text": [
      "/home/jupyterlab/conda/envs/python/lib/python3.6/site-packages/ipykernel_launcher.py:3: FutureWarning: pandas.io.json.json_normalize is deprecated, use pandas.json_normalize instead\n",
      "  This is separate from the ipykernel package so we can avoid doing imports until\n"
     ]
    },
    {
     "data": {
      "text/html": [
       "<div>\n",
       "<style scoped>\n",
       "    .dataframe tbody tr th:only-of-type {\n",
       "        vertical-align: middle;\n",
       "    }\n",
       "\n",
       "    .dataframe tbody tr th {\n",
       "        vertical-align: top;\n",
       "    }\n",
       "\n",
       "    .dataframe thead th {\n",
       "        text-align: right;\n",
       "    }\n",
       "</style>\n",
       "<table border=\"1\" class=\"dataframe\">\n",
       "  <thead>\n",
       "    <tr style=\"text-align: right;\">\n",
       "      <th></th>\n",
       "      <th>name</th>\n",
       "      <th>categories</th>\n",
       "      <th>lat</th>\n",
       "      <th>lng</th>\n",
       "    </tr>\n",
       "  </thead>\n",
       "  <tbody>\n",
       "    <tr>\n",
       "      <th>0</th>\n",
       "      <td>Starbucks</td>\n",
       "      <td>Coffee Shop</td>\n",
       "      <td>43.770037</td>\n",
       "      <td>-79.221156</td>\n",
       "    </tr>\n",
       "    <tr>\n",
       "      <th>1</th>\n",
       "      <td>Tim Hortons</td>\n",
       "      <td>Coffee Shop</td>\n",
       "      <td>43.770827</td>\n",
       "      <td>-79.223078</td>\n",
       "    </tr>\n",
       "    <tr>\n",
       "      <th>2</th>\n",
       "      <td>Korean Grill House</td>\n",
       "      <td>Korean BBQ Restaurant</td>\n",
       "      <td>43.770812</td>\n",
       "      <td>-79.214502</td>\n",
       "    </tr>\n",
       "    <tr>\n",
       "      <th>3</th>\n",
       "      <td>El rey del cabrito, monterrey city mexico</td>\n",
       "      <td>Mexican Restaurant</td>\n",
       "      <td>43.768800</td>\n",
       "      <td>-79.219800</td>\n",
       "    </tr>\n",
       "  </tbody>\n",
       "</table>\n",
       "</div>"
      ],
      "text/plain": [
       "                                        name             categories  \\\n",
       "0                                  Starbucks            Coffee Shop   \n",
       "1                                Tim Hortons            Coffee Shop   \n",
       "2                         Korean Grill House  Korean BBQ Restaurant   \n",
       "3  El rey del cabrito, monterrey city mexico     Mexican Restaurant   \n",
       "\n",
       "         lat        lng  \n",
       "0  43.770037 -79.221156  \n",
       "1  43.770827 -79.223078  \n",
       "2  43.770812 -79.214502  \n",
       "3  43.768800 -79.219800  "
      ]
     },
     "execution_count": 25,
     "metadata": {},
     "output_type": "execute_result"
    }
   ],
   "source": [
    "#structure data and put in pandas dataframe\n",
    "\n",
    "venues = results['response']['groups'][0]['items']\n",
    "    \n",
    "nearby_venues = json_normalize(venues) # flatten JSON\n",
    "\n",
    "# filter columns\n",
    "filtered_columns = ['venue.name', 'venue.categories', 'venue.location.lat', 'venue.location.lng']\n",
    "nearby_venues =nearby_venues.loc[:, filtered_columns]\n",
    "\n",
    "# filter the category for each row\n",
    "nearby_venues['venue.categories'] = nearby_venues.apply(get_category_type, axis=1)\n",
    "\n",
    "# clean columns\n",
    "nearby_venues.columns = [col.split(\".\")[-1] for col in nearby_venues.columns]\n",
    "\n",
    "nearby_venues.head()"
   ]
  },
  {
   "cell_type": "code",
   "execution_count": 26,
   "metadata": {},
   "outputs": [
    {
     "name": "stdout",
     "output_type": "stream",
     "text": [
      "4 venues were returned by Foursquare.\n"
     ]
    }
   ],
   "source": [
    "print('{} venues were returned by Foursquare.'.format(nearby_venues.shape[0]))"
   ]
  }
 ],
 "metadata": {
  "kernelspec": {
   "display_name": "Python",
   "language": "python",
   "name": "conda-env-python-py"
  },
  "language_info": {
   "codemirror_mode": {
    "name": "ipython",
    "version": 3
   },
   "file_extension": ".py",
   "mimetype": "text/x-python",
   "name": "python",
   "nbconvert_exporter": "python",
   "pygments_lexer": "ipython3",
   "version": "3.6.11"
  },
  "toc-autonumbering": true
 },
 "nbformat": 4,
 "nbformat_minor": 4
}
